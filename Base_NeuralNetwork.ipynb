{
  "nbformat": 4,
  "nbformat_minor": 0,
  "metadata": {
    "colab": {
      "name": "Base NeuralNetwork.ipynb",
      "provenance": [],
      "collapsed_sections": [],
      "include_colab_link": true
    },
    "kernelspec": {
      "name": "python3",
      "display_name": "Python 3"
    },
    "language_info": {
      "name": "python"
    }
  },
  "cells": [
    {
      "cell_type": "markdown",
      "metadata": {
        "id": "view-in-github",
        "colab_type": "text"
      },
      "source": [
        "<a href=\"https://colab.research.google.com/github/tanvu10/ML_rework_algorithm/blob/main/Base_NeuralNetwork.ipynb\" target=\"_parent\"><img src=\"https://colab.research.google.com/assets/colab-badge.svg\" alt=\"Open In Colab\"/></a>"
      ]
    },
    {
      "cell_type": "code",
      "metadata": {
        "id": "kBGombeWT6UM"
      },
      "source": [
        "#import library\n",
        "import numpy as np \n"
      ],
      "execution_count": null,
      "outputs": []
    },
    {
      "cell_type": "code",
      "metadata": {
        "id": "mpiy5bE8UO2G"
      },
      "source": [
        "\n",
        "class BaseNN:\n",
        "    def __init__(self,X, y, num_iteration, layer_size):\n",
        "        self.X = X\n",
        "        if y.shape[0] != 1 :\n",
        "            self.y = y.reshape(1,-1) #turn to row vector \n",
        "        self.num_iteration = num_iteration\n",
        "        self.layer_size = layer_size #layer size: vector nodes in each layer\n",
        "        self.layer_num = len(self.layer_size)\n",
        "        self.parameter = {} #save in dic\n",
        "        self.cost = []\n",
        "        self.n = X.shape[0]\n",
        "\n",
        "    def init_parameter(self):\n",
        "        np.random.seed(0) #store random param\n",
        "        for l in range(1,self.layer_num): #start from 1, ignore layer L\n",
        "            # row: # of nodes of next layer, col: # of nodes of current layer\n",
        "            self.parameter['W' + str(l)] = np.random.rand(self.layer_size[l], (self.layer_size[l-1]+1))\n",
        "\n",
        "    def sigmoid(self,z):\n",
        "        return 1/(1+np.exp(-z))\n",
        "    \n",
        "\n",
        "    def gradient_sigmoid(self, z):\n",
        "        return self.sigmoid(z)*(1-self.sigmoid(z))\n",
        "\n",
        "\n",
        "    def forward_feed(self, X):\n",
        "        #short-term\n",
        "        activation_node = {} \n",
        "        A = X.T\n",
        "        #input layer \n",
        "        A = np.r_['0,2',np.ones(A.shape[1]),A]\n",
        "        activation_node['A' + str(1)] = A\n",
        "        for l in range(2, self.layer_num + 1):\n",
        "            #loop from second layer to last layer\n",
        "            A = self.parameter['W' + str(l-1)].dot(A)\n",
        "            A = self.sigmoid(A)\n",
        "            if l < self.layer_num:\n",
        "                A = np.r_['0,2',np.ones(A.shape[1]),A] \n",
        "                activation_node['A' + str(l)] = A\n",
        "            else:\n",
        "                activation_node['A' +str(l)] = A\n",
        "\n",
        "            \n",
        "        #A is vector y hat\n",
        "        return A, activation_node\n",
        "\n",
        "    def backward_feed(self,y, X, activation_node):\n",
        "        derri = {}\n",
        "        \n",
        "        #y: row vector\n",
        "\n",
        "        #delta L (1,num_sammple)\n",
        "        #a_(L-1) (#pre_node + 1, num_sample)\n",
        "\n",
        "        '=> dJ/w(L-1) = delta_L*(a_(L-1))^T    '\n",
        "\n",
        "        #for layer L :\n",
        "        #dJ/w(L-1)  = (dJ/da_L)*(da_L/dz_L)*(d(z_L)/d(w(L-1))) = delta_L*(d(z_L)/d(w_(L-1))) = delta_L*a(L-1)\n",
        "        #special case: delta_L = (y^ - y).*(da(L)/dz_L)\n",
        "        delta_L = np.subtract(activation_node['A' + str(self.layer_num)],y) *   self.gradient_sigmoid(activation_node['A' + str(self.layer_num)])\n",
        "        derri['DW' + str(self.layer_num-1)] = (1/self.n)*(delta_L).dot(activation_node['A' + str(self.layer_num-1)].T) \n",
        "        #send back delta from L:\n",
        "\n",
        "\n",
        "        #send back from layer L = weight(L-1)*delta_L\n",
        "        send_prev_delta_L = self.parameter['W'+ str(self.layer_num -1)].T.dot(delta_L)\n",
        "\n",
        "\n",
        "\n",
        "        #reverse a loop from L-1 to 2: => update dW(L-2) => dW(1)\n",
        "        for l in reversed(range(2,self.layer_num)):\n",
        "            #this is delta L-1:, \n",
        "            #delta_L-1 = send_back from layer_L*g'(a(L-1))\n",
        "            pre_delta_l = send_prev_delta_L*self.gradient_sigmoid(  activation_node['A' +str(l)]    )  \n",
        "            pre_delta_l = pre_delta_l[1:, :] #remove first row before update derritive\n",
        "            #dw(L-2) = delta(L-1)*a(L-2)\n",
        "            derrivative = pre_delta_l.dot(activation_node['A' +str(l-1)].T) \n",
        "            derri['DW' + str(l-1)] = (1/self.n)*derrivative\n",
        "            if l > 2:\n",
        "                #update send back\n",
        "                send_prev_delta_L = self.parameter['W'+ str(l-1)].T.dot(pre_delta_l)\n",
        "\n",
        "        return derri\n",
        "\n",
        "    def fit(self, X, y, learning_rate = 0.01):\n",
        "        np.random.seed(1)\n",
        "\n",
        "        self.init_parameter()\n",
        "        \n",
        "        #train step:\n",
        "        for i in range(self.num_iteration):\n",
        "            A, activation_node = self.forward_feed(X)\n",
        "            # print(activation_node)\n",
        "            p_derri = self.backward_feed(y, X, activation_node)\n",
        "            self.cost.append(self.cost_cal(A, y))\n",
        "\n",
        "\n",
        "            #update weight with gradient descent:\n",
        "            for j in range(1,self.layer_num):\n",
        "                #print(j)\n",
        "                #print(self.parameter['W' +str(j)].shape)\n",
        "                #print(p_derri['DW' + str(j)].shape)\n",
        "                       \n",
        "                self.parameter['W' +str(j)] = self.parameter['W' +str(j)]  - learning_rate*p_derri['DW' + str(j)]\n",
        "    \n",
        "\n",
        "    def cost_cal(self, predicted_val, y):\n",
        "        return np.mean( -y*np.log(predicted_val) + -(1-y)*np.log(1-predicted_val) )\n",
        "    \n",
        "\n",
        "    def prediction(self, test_data):\n",
        "        return self.forward_feed(test_data)[0]\n",
        "\n"
      ],
      "execution_count": null,
      "outputs": []
    },
    {
      "cell_type": "code",
      "metadata": {
        "id": "TkvfPdkeWKP-"
      },
      "source": [
        "\n",
        "#review\n",
        "# a = {}\n",
        "# a['W' + str(1)] = np.random.rand(5,1)\n",
        "# a['W' + str(2)] = np.random.rand(1,2)\n",
        "# print(a)\n",
        "\n",
        "# N = 3\n",
        "# A = np.eye(N)\n",
        "# np.r_['0,2',np.ones(A.shape[1]),A]              # add a row\n",
        "# # for l in reversed(range(1,5)):\n",
        "# #     print(l)\n",
        "\n",
        "\n",
        "\n",
        "# A = np.array([[1, 2,3]])\n",
        "# B = np.array([[1,2,3]])\n",
        "# A.T.dot(B)\n",
        "# A*B\n",
        "\n",
        "# 1-A"
      ],
      "execution_count": null,
      "outputs": []
    },
    {
      "cell_type": "code",
      "metadata": {
        "colab": {
          "base_uri": "https://localhost:8080/"
        },
        "id": "0Xpc1zbawgqP",
        "outputId": "74d80613-83cc-421a-e7ea-e92ee8b20bd1"
      },
      "source": [
        "#implementation\n",
        "#NN = BaseNN()\n",
        "sample_data = np.random.rand(100, 4)\n",
        "X = sample_data[:, :3]\n",
        "# print(X)\n",
        "y = (sample_data[:,3]).reshape(1, -1)\n",
        "# print(y)\n",
        "\n",
        "NN = BaseNN(X = X, y =y , num_iteration = 1000, layer_size = (3, 10,1))\n",
        "print(NN.layer_num)\n",
        "NN.fit(X,y)"
      ],
      "execution_count": null,
      "outputs": [
        {
          "output_type": "stream",
          "name": "stdout",
          "text": [
            "3\n"
          ]
        }
      ]
    },
    {
      "cell_type": "code",
      "metadata": {
        "colab": {
          "base_uri": "https://localhost:8080/",
          "height": 282
        },
        "id": "UhQJ6lLay2fy",
        "outputId": "4c4ca12b-7563-4f1f-c794-6cadcacada15"
      },
      "source": [
        "import matplotlib.pyplot as plt\n",
        "plt.plot(NN.cost)"
      ],
      "execution_count": null,
      "outputs": [
        {
          "output_type": "execute_result",
          "data": {
            "text/plain": [
              "[<matplotlib.lines.Line2D at 0x7fb0e4ac7390>]"
            ]
          },
          "metadata": {},
          "execution_count": 13
        },
        {
          "output_type": "display_data",
          "data": {
            "image/png": "[encoded data removed]",
            "text/plain": [
              "<Figure size 432x288 with 1 Axes>"
            ]
          },
          "metadata": {
            "needs_background": "light"
          }
        }
      ]
    },
    {
      "cell_type": "code",
      "metadata": {
        "colab": {
          "base_uri": "https://localhost:8080/"
        },
        "id": "ecUWbaWz9v0D",
        "outputId": "e0009df3-9ee5-4b36-a54e-81a7bdc8941c"
      },
      "source": [
        "train_data = np.array([[1,1,1]])\n",
        "prediction = NN.prediction(train_data)\n",
        "print(prediction)"
      ],
      "execution_count": null,
      "outputs": [
        {
          "output_type": "stream",
          "name": "stdout",
          "text": [
            "[[0.50437198]]\n"
          ]
        }
      ]
    }
  ]
}