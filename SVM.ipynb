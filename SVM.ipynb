{
  "nbformat": 4,
  "nbformat_minor": 0,
  "metadata": {
    "colab": {
      "name": "SVM.ipynb",
      "provenance": [],
      "collapsed_sections": [],
      "authorship_tag": "ABX9TyM9O3GMO6p1tpJ2QHSSOdZ6",
      "include_colab_link": true
    },
    "kernelspec": {
      "name": "python3",
      "display_name": "Python 3"
    },
    "language_info": {
      "name": "python"
    }
  },
  "cells": [
    {
      "cell_type": "markdown",
      "metadata": {
        "id": "view-in-github",
        "colab_type": "text"
      },
      "source": [
        "<a href=\"https://colab.research.google.com/github/tanvu10/ML_rework_algorithm/blob/main/SVM.ipynb\" target=\"_parent\"><img src=\"https://colab.research.google.com/assets/colab-badge.svg\" alt=\"Open In Colab\"/></a>"
      ]
    },
    {
      "cell_type": "code",
      "metadata": {
        "id": "8ZOJUsUjPt47"
      },
      "source": [
        "from __future__ import print_function\n",
        "import numpy as np \n",
        "import matplotlib.pyplot as plt\n",
        "from scipy.spatial.distance import cdist\n",
        "np.random.seed(22)\n",
        "from cvxopt import matrix, solvers\n",
        "\n",
        "means = [[2, 2], [4, 2]]\n",
        "cov = [[.3, .2], [.2, .3]]\n",
        "N = 10\n",
        "X0 = np.random.multivariate_normal(means[0], cov, N) # class 1\n",
        "X1 = np.random.multivariate_normal(means[1], cov, N) # class 2\n",
        "\n",
        "class_1 = np.concatenate( (X0, np.ones(  (X0.shape[0],1)  ) ), axis = 1)\n",
        "#print(class_1)#\n",
        "class_2 = np.concatenate( (X1,- np.ones(  (X0.shape[0],1)  ) ), axis = 1)\n",
        "#print(class_2)\n",
        "\n",
        "sample = np.concatenate((class_1, class_2), axis = 0)\n",
        "#print(sample)"
      ],
      "execution_count": null,
      "outputs": []
    },
    {
      "cell_type": "code",
      "metadata": {
        "id": "RWqLGCmhPw56"
      },
      "source": [
        "\n",
        "def data_preprocessing(dataframe):\n",
        "    return np.array(dataframe)\n",
        "\n",
        "\n",
        "class SVM():\n",
        "    def __init__(self, dataframe):\n",
        "        self.X = dataframe[:,:-1].T\n",
        "        self.y = dataframe[:,-1]   #1d dimension\n",
        "        self.num_sample = dataframe.shape[0]\n",
        "        self.num_feature = dataframe.shape[1] - 1  #minus y axis\n",
        "\n",
        "\n",
        "    def fit(self):\n",
        "        \n",
        "        #create V matrix \n",
        "        self.V = np.zeros((self.num_feature, self.num_sample))\n",
        "        for i in range(self.num_sample):\n",
        "            self.V[:,i] = self.X[:,i]*self.y[i]\n",
        "        self.K = self.V.T.dot(self.V)\n",
        "\n",
        "\n",
        "        #solving for lambda:\n",
        "        P = matrix(self.K, tc='d') \n",
        "\n",
        "        q = matrix( -np.ones((self.K.shape[0],1)), tc='d')\n",
        "\n",
        "        G = matrix( -np.eye(self.K.shape[0]), tc= 'd' ) #lambda > 0 \n",
        "\n",
        "        h = matrix( np.zeros((self.K.shape[0],1)), tc ='d')\n",
        "\n",
        "\n",
        "        # print(self.y)\n",
        "        A = matrix(  np.array([self.y])  , tc = 'd')   #sum( lambda_i * y_i) = 0   #increase dimension for y to 2d\n",
        "        # print(A)\n",
        "        b = matrix(np.zeros((1,1)), tc ='d')\n",
        "\n",
        "        solvers.options['show_progress'] = False\n",
        "        sol = solvers.qp(P, q, G, h, A, b)\n",
        "\n",
        "        self.lambda_ = np.array(sol['x'])\n",
        "        #self.weight = self.V.dot(self.lambda_)\n",
        "        #self.W = self.V.dot(lambda_)\n",
        "\n",
        "\n",
        "        # TAKING SUBSET S: lambda > 0\n",
        "        positive_index = np.where(self.lambda_ > 1e-6)\n",
        "\n",
        "        #positive_index[0]: location of corresponding n_th sample\n",
        "        lambda_subset_S = self.lambda_[positive_index[0],:]  #column vec\n",
        "        y_subset_S = np.array([self.y])[:, positive_index[0]].T  #column vec\n",
        "        X_subset_S = self.X[:, positive_index[0]]   #matrix\n",
        "        V_subset_S = self.V[:, positive_index[0]]   #matrix\n",
        "\n",
        "\n",
        "\n",
        "        self.weight = V_subset_S.dot(lambda_subset_S)\n",
        "        self.bias = np.mean(y_subset_S - self.weight.T.dot(X_subset_S))\n",
        "\n",
        "\n",
        "        #self.bias = np.mean( np.array([self.y]).T -  self.X.T.dot(self.weight)   )\n",
        "\n",
        "\n",
        "        return self.weight, self.bias\n",
        "\n",
        "\n",
        "    def predict(self, input):\n",
        "        if input.shape[0] != 1:\n",
        "            input = input.reshape(1,-1)\n",
        "        return np.sign(self.bias + input.dot(self.weight))\n"
      ],
      "execution_count": null,
      "outputs": []
    },
    {
      "cell_type": "code",
      "metadata": {
        "colab": {
          "base_uri": "https://localhost:8080/"
        },
        "id": "1Zo3gyzWPyHA",
        "outputId": "a98bf9cf-a536-4db3-a587-0f87c6d6976e"
      },
      "source": [
        "A = np.random.rand(5,3)\n",
        "X = A[:,:-1].T\n",
        "print(X)\n",
        "y = A[:,-1]\n",
        "print(y)\n",
        "\n",
        "B = np.zeros( (X.shape[0], X.shape[1]))\n",
        "print(B)\n",
        "print([y[0]]) \n",
        "\n",
        "for i in range(X.shape[1]):\n",
        "    B[:,i] = X[:,i]*y[i]\n",
        "print(B)\n",
        "index = B<0.3\n",
        "print(index)\n",
        "B[index]"
      ],
      "execution_count": null,
      "outputs": [
        {
          "output_type": "stream",
          "name": "stdout",
          "text": [
            "[[0.82854036 0.8584532  0.95314825 0.673016   0.24212296]\n",
            " [0.74456446 0.00551241 0.94177639 0.16411433 0.15785591]]\n",
            "[0.17753704 0.35764317 0.02304901 0.56813237 0.50356282]\n",
            "[[0. 0. 0. 0. 0.]\n",
            " [0. 0. 0. 0. 0.]]\n",
            "[0.17753703793604714]\n",
            "[[0.1470966  0.30701992 0.02196913 0.38236217 0.12192412]\n",
            " [0.13218777 0.00197148 0.02170702 0.09323867 0.07949037]]\n",
            "[[ True False  True False  True]\n",
            " [ True  True  True  True  True]]\n"
          ]
        },
        {
          "output_type": "execute_result",
          "data": {
            "text/plain": [
              "array([0.1470966 , 0.02196913, 0.12192412, 0.13218777, 0.00197148,\n",
              "       0.02170702, 0.09323867, 0.07949037])"
            ]
          },
          "metadata": {},
          "execution_count": 6
        }
      ]
    },
    {
      "cell_type": "code",
      "metadata": {
        "colab": {
          "base_uri": "https://localhost:8080/"
        },
        "id": "TwG2Hj5ySO33",
        "outputId": "eabef32f-5018-4f69-f845-5e8bb971dbff"
      },
      "source": [
        "SVM_v1 = SVM(sample)\n",
        "weight, bias = SVM_v1.fit()\n",
        "print(weight)\n",
        "print(bias)"
      ],
      "execution_count": null,
      "outputs": [
        {
          "output_type": "stream",
          "name": "stdout",
          "text": [
            "[[-2.00984381]\n",
            " [ 0.64068336]]\n",
            "4.668560633868116\n"
          ]
        }
      ]
    },
    {
      "cell_type": "code",
      "metadata": {
        "colab": {
          "base_uri": "https://localhost:8080/"
        },
        "id": "DZRydNsMb4vv",
        "outputId": "1257a586-c441-41c2-8261-5b9e5672727b"
      },
      "source": [
        "prediction = SVM_v1.predict(np.array([[5, -1]]))\n",
        "prediction"
      ],
      "execution_count": null,
      "outputs": [
        {
          "output_type": "execute_result",
          "data": {
            "text/plain": [
              "array([[-1.]])"
            ]
          },
          "metadata": {},
          "execution_count": 8
        }
      ]
    }
  ]
}