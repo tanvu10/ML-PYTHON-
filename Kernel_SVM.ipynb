{
  "nbformat": 4,
  "nbformat_minor": 0,
  "metadata": {
    "colab": {
      "name": "Kernel_SVM.ipynb",
      "provenance": [],
      "collapsed_sections": []
    },
    "kernelspec": {
      "name": "python3",
      "display_name": "Python 3"
    },
    "language_info": {
      "name": "python"
    }
  },
  "cells": [
    {
      "cell_type": "code",
      "metadata": {
        "id": "WiSzheNA9qOL"
      },
      "source": [
        "from __future__ import print_function\n",
        "import numpy as np \n",
        "import matplotlib.pyplot as plt\n",
        "from scipy.spatial.distance import cdist\n",
        "np.random.seed(22)\n",
        "from cvxopt import matrix, solvers\n"
      ],
      "execution_count": 251,
      "outputs": []
    },
    {
      "cell_type": "code",
      "metadata": {
        "id": "elHGWnp79xPf"
      },
      "source": [
        "class Kernel_SVM():\n",
        "\n",
        "    def __init__(self, C, dataframe, gamma = None):\n",
        "        self.C  = C\n",
        "        self.X = dataframe[:,:-1].T #matrix\n",
        "        self.y = dataframe[:, -1]  # 1d array\n",
        "        self.num_sample = dataframe.shape[0]  # # of row\n",
        "        self.num_feature = dataframe.shape[1] - 1  #remove label column\n",
        "        self.gamma = gamma\n",
        "\n",
        "\n",
        "    def G_Kernel(self,x1,x2, gamma):\n",
        "        'x1, x2: collumn vector'\n",
        "        return np.exp(-gamma*np.sum((x1 - x2)**2))    \n",
        "    \n",
        "    def fit(self):\n",
        "        #check gamma is not none:\n",
        "        if not self.gamma:\n",
        "            self.gamma = 1/self.num_sample\n",
        "\n",
        "\n",
        "        #create kernel matrix\n",
        "        kernel_matrix = np.zeros( (self.num_sample, self.num_sample))\n",
        "        \n",
        "        for column in range(self.num_sample):\n",
        "            for row in range(self.num_sample):\n",
        "                kernel_matrix[column, row] = self.y[column]*self.y[row]*self.G_Kernel(self.X[:,column],self.X[:, row], self.gamma)\n",
        "        \n",
        "        #Optimization part:\n",
        "\n",
        "        P = matrix(kernel_matrix, tc= 'd')\n",
        "        q = matrix( -np.ones((self.num_sample, 1)), tc ='d')\n",
        "\n",
        "        G1 = ( - np.eye(self.num_sample))\n",
        "        G2 = (np.eye(self.num_sample))\n",
        "        G = np.concatenate((G1,G2), axis = 0) \n",
        "        G = matrix(G, tc ='d')\n",
        "\n",
        "        h1 = np.zeros((self.num_sample,1))  #lambda >= 0 \n",
        "        h2 = self.C*np.ones((self.num_sample,1)) #lambda < C \n",
        "        h = np.concatenate((h1, h2), axis = 0)\n",
        "        h = matrix( h, tc = 'd')\n",
        "\n",
        "        A = matrix(np.array([self.y]), tc = 'd')\n",
        "        b = matrix(np.zeros((1, 1)), tc='d')\n",
        "\n",
        "        solvers.options['show_progress'] = False\n",
        "        sol = solvers.qp(P, q, G, h, A, b)\n",
        "\n",
        "        pre_lambda = np.array(sol['x']) #2d array\n",
        "        # print(pre_lambda)\n",
        "        # TAKING SUBSET S: S = {lambda: lambda > 0}\n",
        "        positive_index = np.where(pre_lambda > 1e-6)\n",
        "\n",
        "        #positive_index[0]: location of corresponding n_th sample\n",
        "        self.lambda_subset_S = pre_lambda[positive_index[0],:]  #column vec\n",
        "        self.y_subset_S = np.array([self.y])[:, positive_index[0]].T  #column vec\n",
        "        self.X_subset_S = self.X[:, positive_index[0]]   #matrix\n",
        "\n",
        "\n",
        "        # TAKING SUBSET M: M = {lambda: 0<lambda<C}\n",
        "        M_index = np.where((pre_lambda < self.C) & (pre_lambda > 1e-6))\n",
        "        self.lambda_subset_M = pre_lambda[M_index[0],:]  #column vec\n",
        "        self.y_subset_M = np.array([self.y])[:, M_index[0]].T  #column vec\n",
        "        self.X_subset_M = self.X[:,  M_index[0]]   #matrix\n",
        " \n",
        "        \n",
        "    def kernel_sum(self, lambda_vec, y, X, input):   \n",
        "    #sum( lambda * y * kernel(X,input) )  \n",
        "    #X: matrix, input: col_vector => kernel(X,input) : col_vector\n",
        "    #all input is collum vec\n",
        "        kernel_product = np.array([ self.G_Kernel(X[:,i], input, self.gamma ) for i in range(X.shape[1])  ]).reshape(-1,1) \n",
        "        return np.sum(lambda_vec*y*kernel_product)\n",
        "\n",
        "    def prediction(self, input):\n",
        "        #reshape_input to column vec\n",
        "        if input.shape[1] != 1:\n",
        "            input = input.reshape(-1,1)\n",
        "\n",
        "        #loop through subset M:\n",
        "        sum_M = 0\n",
        "        for i in range(self.lambda_subset_M.shape[0]):\n",
        "            sum_M += self.y_subset_M[i,:] -  self.kernel_sum(self.lambda_subset_S, self.y_subset_S, self.X_subset_S, self.X_subset_M[:,i])\n",
        "        \n",
        "        #sum subset S:\n",
        "        sum_S = self.kernel_sum(self.lambda_subset_S, self.y_subset_S, self.X_subset_S, input)\n",
        "\n",
        "        prediction = sum_S + (1/self.lambda_subset_M.shape[0])*sum_M\n",
        "\n",
        "        #print(prediction)\n",
        "        return np.sign(prediction)\n",
        "    \n",
        "            \n"
      ],
      "execution_count": 252,
      "outputs": []
    },
    {
      "cell_type": "code",
      "metadata": {
        "id": "WpmH8mS9JnM0"
      },
      "source": [
        "\n",
        "means = [[2, 2], [4, 2]]\n",
        "cov = [[.3, .2], [.2, .3]]\n",
        "N = 100\n",
        "X0 = np.random.multivariate_normal(means[0], cov, N) # class 1\n",
        "X1 = np.random.multivariate_normal(means[1], cov, N) # class 2\n",
        "\n",
        "\n",
        "\n",
        "class_1 = np.concatenate( (X0, np.ones(  (X0.shape[0],1)  ) ), axis = 1)\n",
        "#print(class_1)#\n",
        "class_2 = np.concatenate( (X1,- np.ones(  (X0.shape[0],1)  ) ), axis = 1)\n",
        "#print(class_2)\n",
        "sample = np.concatenate((class_1, class_2), axis = 0)\n",
        "#print(sample)"
      ],
      "execution_count": 253,
      "outputs": []
    },
    {
      "cell_type": "code",
      "metadata": {
        "id": "J-mpUV5oKXkp"
      },
      "source": [
        "SVM_v2 = Kernel_SVM(C=1, dataframe = sample)\n",
        "SVM_v2.fit()"
      ],
      "execution_count": 254,
      "outputs": []
    },
    {
      "cell_type": "code",
      "metadata": {
        "id": "BAmPKfKgLLsK",
        "colab": {
          "base_uri": "https://localhost:8080/"
        },
        "outputId": "074cab5d-f2e5-459e-8e25-91bf1f6d1430"
      },
      "source": [
        "prediction = SVM_v2.prediction(np.array([[1,1]]))\n",
        "prediction"
      ],
      "execution_count": 255,
      "outputs": [
        {
          "output_type": "execute_result",
          "data": {
            "text/plain": [
              "array([1.])"
            ]
          },
          "metadata": {},
          "execution_count": 255
        }
      ]
    }
  ]
}